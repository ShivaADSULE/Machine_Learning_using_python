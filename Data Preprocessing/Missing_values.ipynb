{
 "nbformat": 4,
 "nbformat_minor": 2,
 "metadata": {
  "language_info": {
   "name": "python",
   "codemirror_mode": {
    "name": "ipython",
    "version": 3
   },
   "version": "3.7.6-final"
  },
  "orig_nbformat": 2,
  "file_extension": ".py",
  "mimetype": "text/x-python",
  "name": "python",
  "npconvert_exporter": "python",
  "pygments_lexer": "ipython3",
  "version": 3,
  "kernelspec": {
   "name": "python37664bitb11f1144db084a4e80feedaf7098752a",
   "display_name": "Python 3.7.6 64-bit"
  }
 },
 "cells": [
  {
   "cell_type": "code",
   "execution_count": null,
   "metadata": {},
   "outputs": [],
   "source": [
    "import matplotlib.pyplot as plt\n",
    "import numpy as np\n",
    "import pandas as pd"
   ]
  },
  {
   "cell_type": "code",
   "execution_count": null,
   "metadata": {},
   "outputs": [],
   "source": [
    "data = pd.read_csv(\"Study Data\\Data.csv\")\n"
   ]
  },
  {
   "cell_type": "code",
   "execution_count": null,
   "metadata": {},
   "outputs": [],
   "source": [
    "data"
   ]
  },
  {
   "cell_type": "code",
   "execution_count": null,
   "metadata": {},
   "outputs": [],
   "source": [
    "# Missing Values Replace by Pandas\n",
    "new_data = data.copy()\n",
    "new_data['Age'] = data['Age'].fillna((data['Age'].mean()))\n",
    "new_data['Salary'] = data['Salary'].fillna((data['Salary'].mean()))\n",
    "new_data"
   ]
  },
  {
   "cell_type": "code",
   "execution_count": 9,
   "metadata": {},
   "outputs": [],
   "source": [
    "# Missing Values replace by imputer\n",
    "new_data = data.values # convert to array elemet for slicing\n",
    "from sklearn.impute import SimpleImputer\n",
    "imputer = SimpleImputer(missing_values=np.nan, strategy='mean')\n",
    "imputer = imputer.fit(new_data[:, 1:3])\n",
    "new_data [:,1:3] = imputer.transform(new_data[:,1:3])"
   ]
  },
  {
   "cell_type": "code",
   "execution_count": 10,
   "metadata": {},
   "outputs": [
    {
     "data": {
      "text/plain": "array([['France', 44.0, 72000.0, 'No'],\n       ['Spain', 27.0, 48000.0, 'Yes'],\n       ['Germany', 30.0, 54000.0, 'No'],\n       ['Spain', 38.0, 61000.0, 'No'],\n       ['Germany', 40.0, 63777.77777777778, 'Yes'],\n       ['France', 35.0, 58000.0, 'Yes'],\n       ['Spain', 38.77777777777778, 52000.0, 'No'],\n       ['France', 48.0, 79000.0, 'Yes'],\n       ['Germany', 50.0, 83000.0, 'No'],\n       ['France', 37.0, 67000.0, 'Yes']], dtype=object)"
     },
     "execution_count": 10,
     "metadata": {},
     "output_type": "execute_result"
    }
   ],
   "source": [
    "new_data"
   ]
  }
 ]
}